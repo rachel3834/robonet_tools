{
 "cells": [
  {
   "cell_type": "markdown",
   "id": "6a76a1ac-5518-48fb-b393-94d51a359295",
   "metadata": {},
   "source": [
    "# Comparison of Two Model Fits\n",
    "\n",
    "Goal: To evaluate how adding data to an event lightcurve can improve how well we can measure the parameters of that event. \n",
    "\n",
    "Specifically, we are examining microlensing events observed by both the Roman Space Telescope and the Rubin Observatory, though both facilities will operate with very different observing strategies.  "
   ]
  },
  {
   "cell_type": "markdown",
   "id": "ec7d4afe-a6ad-412c-aeb8-4d473d75cb98",
   "metadata": {},
   "source": [
    "To evaluate this, we fit microlensing models to the data from Roman and Rubin separately, and then fit all of the data together.  This results in a set of parameters for the best fitting model in each case, for each event, together with their uncertainties, e.g.:"
   ]
  },
  {
   "cell_type": "code",
   "execution_count": 1,
   "id": "7fec2b7a-7ad1-410e-a7dd-32eda2529c83",
   "metadata": {},
   "outputs": [],
   "source": [
    "roman_only_parameters = {'t0': 2459567.0, 'u0': 0.01, 'tE': 75.0, 'piEE': 0.01, 'piEN': 0.012, \n",
    "                        't0err': 0.36, 'u0err': 1e-03, 'tEerr': 0.25, 'piEEerr': 6e-3, 'piENerr': 7e-3}\n",
    "rubin_only_parameters = {'t0': 2459567.3, 'u0': 0.012, 'tE': 74.5, 'piEE': 0.012, 'piEN': 0.01, \n",
    "                        't0err': 0.5, 'u0err': 7e-03, 'tEerr': 0.5, 'piEEerr': 5e-3, 'piENerr': 5e-3}\n",
    "roman_rubin_parameters = {'t0': 2459568.01, 'u0': 0.009, 'tE': 74.6, 'piEE': 0.008, 'piEN': 0.014, \n",
    "                        't0err': 0.3, 'u0err': 9e-04, 'tEerr': 0.2, 'piEEerr': 4e-3, 'piENerr': 4.5e-3}"
   ]
  },
  {
   "cell_type": "markdown",
   "id": "b50478d2-8a17-4eb9-a072-5ff96049ba2e",
   "metadata": {},
   "source": [
    "To help to build our understanding of the results, and to quickly sanity check the fitting process itself to make sure there are no problems, it would be beneficial to perform a simple comparison of these model fitting results before moving on to perform a more thorough comparison.  \n",
    "\n",
    "## The Simple Metric\n",
    "\n",
    "Two different tests are helpful here:\n",
    "1) For a few events selected as examples, calculate the change in the model parameter uncertainties as a fraction of the value of the parameter itself.  It would be particularly interesting to examine this metric for a few examples of events which have a low value of chisq and a few which have high chisq.  \n",
    "2) Calculate the same metric for all events which can be well fitted using Roman data alone and using Roman and Rubin data together, and for each parameter, plot a histogram of the metric values.\n",
    "\n",
    "As an example of this simple test metric:"
   ]
  },
  {
   "cell_type": "code",
   "execution_count": 2,
   "id": "60749e01-6437-4622-8eea-aa85aaf0a9ad",
   "metadata": {},
   "outputs": [],
   "source": [
    "def change_parameter_uncertainty(roman_only_parameters, roman_rubin_parameters):\n",
    "    \"\"\"The arguments for this function consist of dictionaries of the parameters of the best-fit model and their uncertainties, \n",
    "    in the cases where just the Roman data are included in the fit, and where both Roman and Rubin data are included.\"\"\"\n",
    "    \n",
    "    results = {}\n",
    "    for par_key,value in roman_only_parameters.items():\n",
    "        par_error_key = par+'err'\n",
    "        metric = abs(roman_only_parameters[par_error_key] - roman_rubin_parameters[par_error_key])/value\n",
    "        results[par_key] = metric\n",
    "    return results"
   ]
  },
  {
   "cell_type": "markdown",
   "id": "0b33edc7-1a33-439b-8bda-713937795e20",
   "metadata": {},
   "source": [
    "## The Thorough Metric\n",
    "\n",
    "As Markus outlined, there are a number of more rigorous statistical tools to evaluate whether one model fit provides significantly better constrained parameters or not.  [This article](https://en.wikipedia.org/wiki/Model_selection#Criteria) is a useful reference"
   ]
  }
 ],
 "metadata": {
  "kernelspec": {
   "display_name": "Python 3 (ipykernel)",
   "language": "python",
   "name": "python3"
  },
  "language_info": {
   "codemirror_mode": {
    "name": "ipython",
    "version": 3
   },
   "file_extension": ".py",
   "mimetype": "text/x-python",
   "name": "python",
   "nbconvert_exporter": "python",
   "pygments_lexer": "ipython3",
   "version": "3.9.6"
  }
 },
 "nbformat": 4,
 "nbformat_minor": 5
}
