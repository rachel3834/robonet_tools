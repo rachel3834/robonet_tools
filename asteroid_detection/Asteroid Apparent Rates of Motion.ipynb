{
 "cells": [
  {
   "cell_type": "markdown",
   "id": "caf545a4",
   "metadata": {},
   "source": [
    "# Asteroid Apparent Rates of Motion"
   ]
  },
  {
   "cell_type": "markdown",
   "id": "dac9f0f2",
   "metadata": {},
   "source": [
    "Different types of Solar System objects are categorized in families according to their orbital characteristics and can be roughly identified in imaging data based on their rates of motion.  I've derived this information from the following sources:\n",
    "Jedicke, R., 1996, ApJ, 111\n",
    "Cortes-Contreras et al., 2019, MNRAS, https://arxiv.org/pdf/1909.11657.pdf (inc. moving object detection)\n",
    "Savanevych, et al., 2018, A&A, https://www.aanda.org/articles/aa/pdf/2018/01/aa30323-16.pdf (inc. detection)"
   ]
  },
  {
   "cell_type": "code",
   "execution_count": 2,
   "id": "a9abb57f",
   "metadata": {},
   "outputs": [],
   "source": [
    "from astropy import units as u\n",
    "from astropy import constants as c\n",
    "import numpy as np\n",
    "from astropy.coordinates import Angle"
   ]
  },
  {
   "cell_type": "code",
   "execution_count": 14,
   "id": "4996fd66",
   "metadata": {},
   "outputs": [],
   "source": [
    "asteroids = {'Atira': {'orbital_radius': 0.7*c.au},\n",
    "            'Vesta':  {'orbital_radius': 2.2*c.au},\n",
    "            'MainBelt_B': {'orbital_radius':2.6*c.au},\n",
    "            'MainBelt_C': {'orbital_radius':2.75*c.au},\n",
    "            'MainBelt_D': {'orbital_radius':2.9*c.au},\n",
    "            'MainBelt_E': {'orbital_radius':3.0*c.au},\n",
    "            'MainBelt_F': {'orbital_radius':3.05*c.au},\n",
    "            'MainBelt_G': {'orbital_radius':3.15*c.au},\n",
    "            'Jupiter_Trojans': {'orbital_radius':5.203*c.au},\n",
    "            'Transneptunian': {'orbital_radius':30.1*c.au},\n",
    "            'KuiperBelt_inner': {'orbital_radius': 30.0*c.au},\n",
    "            'KuiperBelt_outer': {'orbital_radius': 50.0*c.au}\n",
    "            }"
   ]
  },
  {
   "cell_type": "code",
   "execution_count": 15,
   "id": "55d6142f",
   "metadata": {},
   "outputs": [],
   "source": [
    "def calc_orb_period(a, object_mass = 0*u.kg):\n",
    "    \"\"\"Function to estimate orbital period assuming circular orbits\"\"\"\n",
    "    P = np.sqrt( a**3 / ((c.G*(object_mass+c.M_sun)) / (4.0*np.pi**2)) )\n",
    "    return P"
   ]
  },
  {
   "cell_type": "code",
   "execution_count": 16,
   "id": "8dbeed1c",
   "metadata": {},
   "outputs": [],
   "source": [
    "def calc_orb_velocity(a,P):\n",
    "    v = (2.0*np.pi*a)/P\n",
    "    return v"
   ]
  },
  {
   "cell_type": "code",
   "execution_count": 17,
   "id": "f4550230",
   "metadata": {},
   "outputs": [],
   "source": [
    "def calc_apparent_angular_motion(params):\n",
    "    Drel = abs(params['orbital_radius'] - 1.0*c.au)\n",
    "    theta = np.sin( (params['orbital_velocity']*1.0*u.second/Drel).value )\n",
    "    theta = Angle(theta, unit=u.rad)\n",
    "    return theta"
   ]
  },
  {
   "cell_type": "code",
   "execution_count": 18,
   "id": "f5e93a31",
   "metadata": {},
   "outputs": [
    {
     "name": "stdout",
     "output_type": "stream",
     "text": [
      "Earth mean orbital velocity = 29786.069863739758 m / s\n"
     ]
    }
   ],
   "source": [
    "earth_orb_velocity = calc_orb_velocity(1.0*c.au,(365.24*u.d).to(u.s))\n",
    "print('Earth mean orbital velocity = '+str(earth_orb_velocity))"
   ]
  },
  {
   "cell_type": "code",
   "execution_count": 19,
   "id": "176bc21a",
   "metadata": {},
   "outputs": [
    {
     "name": "stdout",
     "output_type": "stream",
     "text": [
      "Atira P=213.91709240562264 d v_orb=35599.515795038235 m / s app ang motion = 0.163615 arcsec per second\n",
      "Vesta P=1191.8797691666737 d v_orb=20080.83513507824 m / s app ang motion = 0.0230728 arcsec per second\n",
      "MainBelt_B P=1531.2935347404436 d v_orb=18471.681729576718 m / s app ang motion = 0.0159179 arcsec per second\n",
      "MainBelt_C P=1665.7026155396502 d v_orb=17960.844962800442 m / s app ang motion = 0.014151 arcsec per second\n",
      "MainBelt_D P=1803.8292451665125 d v_orb=17490.173274400684 m / s app ang motion = 0.0126923 arcsec per second\n",
      "MainBelt_E P=1897.930517448549 d v_orb=17196.199845594023 m / s app ang motion = 0.011855 arcsec per second\n",
      "MainBelt_F P=1945.575935714604 d v_orb=17054.66492972489 m / s app ang motion = 0.0114707 arcsec per second\n",
      "MainBelt_G P=2042.040059798288 d v_orb=16781.772683752763 m / s app ang motion = 0.0107622 arcsec per second\n",
      "Jupiter_Trojans P=4334.900822603986 d v_orb=13057.685314017654 m / s app ang motion = 0.00428358 arcsec per second\n",
      "Transneptunian P=60318.17185813394 d v_orb=5428.875263276308 m / s app ang motion = 0.000257227 arcsec per second\n",
      "KuiperBelt_inner P=60017.83275879359 d v_orb=5437.915861151291 m / s app ang motion = 0.000258544 arcsec per second\n",
      "KuiperBelt_outer P=129137.81486126086 d v_orb=4212.191513663223 m / s app ang motion = 0.000118525 arcsec per second\n"
     ]
    }
   ],
   "source": [
    "for family, params in asteroids.items():\n",
    "    params['orbital_period'] = calc_orb_period(params['orbital_radius'])\n",
    "    params['orbital_velocity'] = calc_orb_velocity(params['orbital_radius'],params['orbital_period'])\n",
    "    params['min_rel_velocity'] = abs(earth_orb_velocity - params['orbital_velocity'])\n",
    "    params['max_rel_velocity'] = abs(earth_orb_velocity + params['orbital_velocity'])\n",
    "    params['app_ang_motion'] = calc_apparent_angular_motion(params)\n",
    "    calc_apparent_angular_motion(params)\n",
    "    asteroids[family] = params\n",
    "    print(family+' P='+str(params['orbital_period'].to(u.d))+' v_orb='+str(params['orbital_velocity'])+' app ang motion = '+str(params['app_ang_motion'].to(u.arcsecond))+' per second')"
   ]
  },
  {
   "cell_type": "markdown",
   "id": "1308f303-0fe6-4f8b-be60-41c195ccf769",
   "metadata": {},
   "source": [
    "The question we are trying to answer is which of these objects move at a rate where their photometry crossing a microlensing event could be confused for an anomalous signature.  \n",
    "\n",
    "Planetary anomalies last on the order of hours, and are typically observed every 15min.  So in order to be confused, a Solar System object would need to cross the stellar PSF of the source star (~2 arcsec in standard seeing conditions) in an interval between 15min to ~4hrs. \n",
    "\n",
    "From this, we can infer rates of motion that will be relevant for this study."
   ]
  },
  {
   "cell_type": "code",
   "execution_count": 13,
   "id": "a68ee3f9",
   "metadata": {},
   "outputs": [
    {
     "name": "stdout",
     "output_type": "stream",
     "text": [
      "Range of rates relevant to this study: 0.0001388888888888889 arcsec s to 0.0022222222222222222 arcsec s\n"
     ]
    }
   ],
   "source": [
    "min_rate = 2.0*u.arcsecond / (4.0 * 3600.0)*u.second\n",
    "max_rate = 2.0*u.arcsecond / (15.0 * 60.0)*u.second\n",
    "print('Range of rates relevant to this study: ' + str(min_rate) + ' to ' + str(max_rate))"
   ]
  },
  {
   "cell_type": "markdown",
   "id": "3e21a021-bf36-4613-8f36-6b339e54e904",
   "metadata": {},
   "source": [
    "This implies that the likely false positives will come from the outer Solar System: Jupiter Trojans, Trans-Neptunian Objects and the Kuiper Belt.  "
   ]
  },
  {
   "cell_type": "code",
   "execution_count": null,
   "id": "4c7f45cd-d6ef-42b1-af05-8d771eafb497",
   "metadata": {},
   "outputs": [],
   "source": []
  }
 ],
 "metadata": {
  "kernelspec": {
   "display_name": "Python 3 (ipykernel)",
   "language": "python",
   "name": "python3"
  },
  "language_info": {
   "codemirror_mode": {
    "name": "ipython",
    "version": 3
   },
   "file_extension": ".py",
   "mimetype": "text/x-python",
   "name": "python",
   "nbconvert_exporter": "python",
   "pygments_lexer": "ipython3",
   "version": "3.9.17"
  }
 },
 "nbformat": 4,
 "nbformat_minor": 5
}
