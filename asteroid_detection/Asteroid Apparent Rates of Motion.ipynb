{
 "cells": [
  {
   "cell_type": "markdown",
   "id": "caf545a4",
   "metadata": {},
   "source": [
    "# Asteroid Apparent Rates of Motion"
   ]
  },
  {
   "cell_type": "markdown",
   "id": "dac9f0f2",
   "metadata": {},
   "source": [
    "Different types of Solar System objects are categorized in families according to their orbital characteristics and can be roughly identified in imaging data based on their rates of motion.  I've derived this information from the following sources:\n",
    "Jedicke, R., 1996, ApJ, 111\n",
    "Cortes-Contreras et al., 2019, MNRAS, https://arxiv.org/pdf/1909.11657.pdf (inc. moving object detection)\n",
    "Savanevych, et al., 2018, A&A, https://www.aanda.org/articles/aa/pdf/2018/01/aa30323-16.pdf (inc. detection)"
   ]
  },
  {
   "cell_type": "code",
   "execution_count": 76,
   "id": "a9abb57f",
   "metadata": {},
   "outputs": [],
   "source": [
    "from astropy import units as u\n",
    "from astropy import constants as c\n",
    "import numpy as np\n",
    "from astropy.coordinates import Angle"
   ]
  },
  {
   "cell_type": "code",
   "execution_count": 39,
   "id": "4996fd66",
   "metadata": {},
   "outputs": [],
   "source": [
    "asteroids = {'Atira': {'orbital_radius': 0.7*c.au},\n",
    "            'Vesta':  {'orbital_radius': 2.2*c.au},\n",
    "            'MainBelt_B': {'orbital_radius':2.6*c.au},\n",
    "            'MainBelt_C': {'orbital_radius':2.75*c.au},\n",
    "            'MainBelt_D': {'orbital_radius':2.9*c.au},\n",
    "            'MainBelt_E': {'orbital_radius':3.0*c.au},\n",
    "            'MainBelt_F': {'orbital_radius':3.05*c.au},\n",
    "            'MainBelt_G': {'orbital_radius':3.15*c.au},\n",
    "            'Jupiter_Trojans': {'orbital_radius':5.203*c.au},\n",
    "            'Transneptunian': {'orbital_radius':30.1*c.au} }"
   ]
  },
  {
   "cell_type": "code",
   "execution_count": null,
   "id": "15c447f9",
   "metadata": {},
   "outputs": [],
   "source": [
    "ADD KUIPER BELT OBJECTS HERE"
   ]
  },
  {
   "cell_type": "code",
   "execution_count": 46,
   "id": "55d6142f",
   "metadata": {},
   "outputs": [],
   "source": [
    "def calc_orb_period(a, object_mass = 0*u.kg):\n",
    "    \"\"\"Function to estimate orbital period assuming circular orbits\"\"\"\n",
    "    P = np.sqrt( a**3 / ((c.G*(object_mass+c.M_sun)) / (4.0*np.pi**2)) )\n",
    "    return P"
   ]
  },
  {
   "cell_type": "code",
   "execution_count": 52,
   "id": "8dbeed1c",
   "metadata": {},
   "outputs": [],
   "source": [
    "def calc_orb_velocity(a,P):\n",
    "    v = (2.0*np.pi*a)/P\n",
    "    return v"
   ]
  },
  {
   "cell_type": "code",
   "execution_count": 99,
   "id": "f4550230",
   "metadata": {},
   "outputs": [],
   "source": [
    "def calc_apparent_angular_motion(params):\n",
    "    Drel = abs(params['orbital_radius'] - 1.0*c.au)\n",
    "    theta = np.sin( (params['orbital_velocity']*1.0*u.second/Drel).value )\n",
    "    theta = Angle(theta, unit=u.rad)\n",
    "    return theta"
   ]
  },
  {
   "cell_type": "code",
   "execution_count": 100,
   "id": "f5e93a31",
   "metadata": {},
   "outputs": [
    {
     "name": "stdout",
     "output_type": "stream",
     "text": [
      "Earth mean orbital velocity = 29786.069863739758 m / s\n"
     ]
    }
   ],
   "source": [
    "earth_orb_velocity = calc_orb_velocity(1.0*c.au,(365.24*u.d).to(u.s))\n",
    "print('Earth mean orbital velocity = '+str(earth_orb_velocity))"
   ]
  },
  {
   "cell_type": "code",
   "execution_count": 102,
   "id": "176bc21a",
   "metadata": {},
   "outputs": [
    {
     "name": "stdout",
     "output_type": "stream",
     "text": [
      "Atira P=213.91709240562264 d v_orb=35599.515795038235 m / s app ang motion = 0.163615arcsec per second\n",
      "Vesta P=1191.8797691666737 d v_orb=20080.83513507824 m / s app ang motion = 0.0230728arcsec per second\n",
      "MainBelt_B P=1531.2935347404436 d v_orb=18471.681729576718 m / s app ang motion = 0.0159179arcsec per second\n",
      "MainBelt_C P=1665.7026155396502 d v_orb=17960.844962800442 m / s app ang motion = 0.014151arcsec per second\n",
      "MainBelt_D P=1803.8292451665125 d v_orb=17490.173274400684 m / s app ang motion = 0.0126923arcsec per second\n",
      "MainBelt_E P=1897.930517448549 d v_orb=17196.199845594023 m / s app ang motion = 0.011855arcsec per second\n",
      "MainBelt_F P=1945.575935714604 d v_orb=17054.66492972489 m / s app ang motion = 0.0114707arcsec per second\n",
      "MainBelt_G P=2042.040059798288 d v_orb=16781.772683752763 m / s app ang motion = 0.0107622arcsec per second\n",
      "Jupiter_Trojans P=4334.900822603986 d v_orb=13057.685314017654 m / s app ang motion = 0.00428358arcsec per second\n",
      "Transneptunian P=60318.17185813394 d v_orb=5428.875263276308 m / s app ang motion = 0.000257227arcsec per second\n"
     ]
    }
   ],
   "source": [
    "for family, params in asteroids.items():\n",
    "    params['orbital_period'] = calc_orb_period(params['orbital_radius'])\n",
    "    params['orbital_velocity'] = calc_orb_velocity(params['orbital_radius'],params['orbital_period'])\n",
    "    params['min_rel_velocity'] = abs(earth_orb_velocity - params['orbital_velocity'])\n",
    "    params['max_rel_velocity'] = abs(earth_orb_velocity + params['orbital_velocity'])\n",
    "    params['app_ang_motion'] = calc_apparent_angular_motion(params)\n",
    "    calc_apparent_angular_motion(params)\n",
    "    asteroids[family] = params\n",
    "    print(family+' P='+str(params['orbital_period'].to(u.d))+' v_orb='+str(params['orbital_velocity'])+' app ang motion = '+str(params['app_ang_motion'].to(u.arcsecond))+' per second')"
   ]
  },
  {
   "cell_type": "code",
   "execution_count": 37,
   "id": "5a34494e",
   "metadata": {},
   "outputs": [
    {
     "data": {
      "text/latex": [
       "$365.25635 \\; \\mathrm{d}$"
      ],
      "text/plain": [
       "<Quantity 365.25634986 d>"
      ]
     },
     "execution_count": 37,
     "metadata": {},
     "output_type": "execute_result"
    }
   ],
   "source": []
  },
  {
   "cell_type": "code",
   "execution_count": null,
   "id": "a68ee3f9",
   "metadata": {},
   "outputs": [],
   "source": []
  }
 ],
 "metadata": {
  "kernelspec": {
   "display_name": "Python 3",
   "language": "python",
   "name": "python3"
  },
  "language_info": {
   "codemirror_mode": {
    "name": "ipython",
    "version": 3
   },
   "file_extension": ".py",
   "mimetype": "text/x-python",
   "name": "python",
   "nbconvert_exporter": "python",
   "pygments_lexer": "ipython3",
   "version": "3.7.4"
  }
 },
 "nbformat": 4,
 "nbformat_minor": 5
}
