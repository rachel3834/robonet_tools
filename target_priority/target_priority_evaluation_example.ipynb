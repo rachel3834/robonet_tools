{
 "cells": [
  {
   "cell_type": "markdown",
   "id": "d3ff2fc8-059f-4418-ac15-25a3cdf6b45f",
   "metadata": {},
   "source": [
    "# Evaluation of target priority as a function of time\n",
    "\n",
    "MOP currently as two algorithms which determine the priority that a target should receive for observations, one aimed at stellar events and the other at long-timescale events. \n",
    "\n",
    "The goal of this notebook is to evaluate how well these algorithms perform for real-world data. "
   ]
  },
  {
   "cell_type": "code",
   "execution_count": 41,
   "id": "ebe39c8d-dc2e-42c0-a3ca-3ded06ebaa67",
   "metadata": {},
   "outputs": [],
   "source": [
    "from os import path\n",
    "from astropy.table import Table, Column\n",
    "from astropy.time import Time\n",
    "from datetime import datetime\n",
    "import numpy as np\n",
    "import matplotlib.pyplot as plt"
   ]
  },
  {
   "cell_type": "markdown",
   "id": "d5765c10-41b5-4e69-836e-252784100571",
   "metadata": {},
   "source": [
    "First let's define some commonly needed functions for later use."
   ]
  },
  {
   "cell_type": "code",
   "execution_count": 38,
   "id": "377f74ba-15cb-4b4c-ac9d-3d02615ce43f",
   "metadata": {},
   "outputs": [],
   "source": [
    "def load_csv_lightcurve(lc_file):\n",
    "    if not path.isfile(lc_file):\n",
    "        raise IOError('Cannot find input file at ' + lc_file)\n",
    "\n",
    "    with open(lc_file, mode ='r') as file:\n",
    "        lines = file.readlines()\n",
    "        data = []\n",
    "        source = None\n",
    "        passband = None\n",
    "        for line in lines[1:]:\n",
    "            entries = line.replace('\\n','').split(',')\n",
    "            if not source:\n",
    "                source = entries[2]\n",
    "            if not passband:\n",
    "                passband = entries[7]\n",
    "            data.append([\n",
    "                Time(entries[4],format='isot').mjd, \n",
    "                float(entries[8]), \n",
    "                float(entries[6])\n",
    "            ])\n",
    "        data = np.array(data)\n",
    "        \n",
    "    return data, source, passband\n",
    "    "
   ]
  },
  {
   "cell_type": "markdown",
   "id": "039f1fc5-47df-41b9-98ea-3cbe9305bbf9",
   "metadata": {},
   "source": [
    "## Target priority functions\n",
    "\n",
    "During a follow-up observing campaign, we need to evaluate each event using all of the data on that event that are available up to the present time.  The priority then needs to be re-evaluated as soon as more data come in. \n",
    "We can therefore calculate the priority on a per-datapoint basis.  \n",
    "\n",
    "MOP uses the functions below to calculate this priority."
   ]
  },
  {
   "cell_type": "code",
   "execution_count": 47,
   "id": "001b369c-b1b9-4214-aa9f-4cf10903ceb2",
   "metadata": {},
   "outputs": [],
   "source": [
    "def TAP_long_event_priority(t_now, t_last, t_E, t_E_base = 75.):\n",
    "    \"\"\"\n",
    "    This function calculates priority of a long microlensing event.\n",
    "    If the event has a timescale equal to t_E_base, and was not\n",
    "    observed for t_obs_gap days, the priority should be close to 10.\n",
    "    If the event was not observed for more than 10 days,\n",
    "    the priority is boosted by 10.\n",
    "    If the fit was bad (indicated by t_E being a NaN), than\n",
    "    the priority drops to 0.\n",
    "    Inspired by Horn et al. 2009.\n",
    "\n",
    "    :param t_now: current JD\n",
    "    :param t_last: JD of the latest datapoint in any lightcurve\n",
    "                    assigned to the dataset\n",
    "    :param t_E: Einstein timescale of the event\n",
    "    :param t_E_base: cutoff point for long tE event\n",
    "\n",
    "    :return: priority of the long microlensing event\n",
    "    \"\"\"\n",
    "\n",
    "    # Catch invalid input\n",
    "    if np.isnan(t_E) or t_E == 0.0:\n",
    "        return 0.0\n",
    "\n",
    "    if (np.isnan(t_E)):\n",
    "        # t_E may hit the fit bounds. This means, the fit was\n",
    "        # wrong. In this case the event should not be observed\n",
    "        # and wait for a better estimate of the values.\n",
    "        psi = np.nan\n",
    "    else:\n",
    "        t_obs_gap = 2.\n",
    "\n",
    "        # Events with t_E of t_E_base days will have priority 10.\n",
    "        psi = t_E / t_E_base\n",
    "\n",
    "        # If the event was not observed for t_obs_gap days the priority\n",
    "        # should rise.\n",
    "        delta_t = t_now - t_last\n",
    "        x = (delta_t / t_obs_gap) - t_obs_gap\n",
    "        psi *= 10. / (1. + np.exp(-x))\n",
    "\n",
    "        # KK: Boosting turned off, short timescale events were promoted.\n",
    "        # The event priority should be boosted if it was not\n",
    "        # observed for more than 10 days and it is a long event.\n",
    "        # if (delta_t > 10.):\n",
    "        #     psi *= 10.\n",
    "\n",
    "    # Intercept NaN values and set them to zero as NaN entries\n",
    "    # are non-retrievable from the DB\n",
    "    if np.isnan(psi):\n",
    "        psi = 0.0\n",
    "\n",
    "    return psi\n",
    "\n",
    "def TAP_long_event_priority_error(t_E, covariance, t_E_base = 75.):\n",
    "    \"\"\"\n",
    "    This function calculates error of the priority\n",
    "    of a long microlensing event.\n",
    "\n",
    "    :param t_E: Einstein timescale of the event\n",
    "    :param covariance: covariance matrix\n",
    "    :param t_E_base: cutoff point for long tE event\n",
    "\n",
    "    :return: error of the priority of the long microlensing event.\n",
    "    \"\"\"\n",
    "\n",
    "    # Catch invalid input\n",
    "    if len(covariance) == 0 or np.isnan(t_E):\n",
    "        return 0.0\n",
    "\n",
    "    if(np.isnan(t_E)):\n",
    "        err_psi = 0.\n",
    "    else:\n",
    "        # Simple derevative\n",
    "        err_t_E = np.sqrt(covariance[2,2])\n",
    "        err_psi = 10. *  err_t_E / t_E_base\n",
    "\n",
    "    # Intercept NaN values and set them to zero as NaN entries\n",
    "    # are non-retrievable from the DB\n",
    "    if np.isnan(err_psi):\n",
    "        err_psi = 0.0\n",
    "\n",
    "    return err_psi"
   ]
  },
  {
   "cell_type": "code",
   "execution_count": 48,
   "id": "68d7b714-db0b-4aa7-bc6e-325d7c66e9bf",
   "metadata": {},
   "outputs": [],
   "source": [
    "def TAP_planet_priority(time_now, t0_pspl, u0_pspl, tE_pspl):\n",
    "    \"\"\"\n",
    "    This function calculates the priority for ranking\n",
    "    microlensing events based on the planet probability psi\n",
    "    as defined by Dominik 2009 and estimates the cost of\n",
    "    observations based on an empiric RMS estimate\n",
    "    obtained from a DANDIA reduction of K2C9 Sinistro\n",
    "    observations from 2016. It expects the overhead to be\n",
    "    60 seconds and also return the current Paczynski\n",
    "    light curve magnification.\n",
    "    \"\"\"\n",
    "\n",
    "    # Catch invalid input\n",
    "    if np.isnan(t0_pspl) or np.isnan(u0_pspl) or np.isnan(tE_pspl) \\\n",
    "            or t0_pspl == 0.0 or tE_pspl == 0.0:\n",
    "        return 0.0\n",
    "\n",
    "    usqr = u0_pspl**2 + ((time_now - t0_pspl) / tE_pspl)**2\n",
    "    pspl_deno = (usqr * (usqr + 4.))**0.5\n",
    "    if pspl_deno < 1e-10:\n",
    "        pspl_deno = 10000.\n",
    "    psip = 4.0 / (pspl_deno) - 2.0 / (usqr + 2.0 + pspl_deno)\n",
    "\n",
    "    # Intercept NaN values and set them to zero as NaN entries\n",
    "    # are non-retrievable from the DB\n",
    "    if np.isnan(psip):\n",
    "        psip = 0.0\n",
    "\n",
    "    return psip\n",
    "\n",
    "def TAP_planet_priority_error(time_now, t0_pspl, u0_pspl, tE_pspl, covariance):\n",
    "    \"\"\"\n",
    "    This function calculates the priority for ranking\n",
    "    microlensing events based on the planet probability psi\n",
    "    as defined by Dominik 2009 and estimates the cost of\n",
    "    observations based on an empiric RMS estimate\n",
    "    obtained from a DANDIA reduction of K2C9 Sinistro\n",
    "    observations from 2016. It expects the overhead to be\n",
    "    60 seconds and also return the current Paczynski\n",
    "    light curve magnification.\n",
    "    \"\"\"\n",
    "\n",
    "    # Catch invalid input\n",
    "    if len(covariance) == 0 or np.isnan(t0_pspl) or np.isnan(u0_pspl) or np.isnan(tE_pspl):\n",
    "        return 0.0\n",
    "\n",
    "    usqr = u0_pspl**2 + ((time_now - t0_pspl) / tE_pspl)**2\n",
    "\n",
    "    dpsipdu = -8*(usqr+2)/(usqr*(usqr+4)**1.5)\n",
    "    dpsipdu += 4*(usqr**0.5*(usqr+4)**0.5+usqr+2)/(usqr+2+(usqr+4)**0.5)**2*1/(usqr+4)**0.5\n",
    "\n",
    "    dUdto = -(time_now - t0_pspl) / (tE_pspl ** 2 *usqr**0.5)\n",
    "    dUduo = u0_pspl/ usqr**0.5\n",
    "    dUdtE = -(time_now - t0_pspl) ** 2 / (tE_pspl ** 3 * usqr**0.5)\n",
    "\n",
    "    print(covariance, dpsipdu, dUdto, dUdtE, dUduo)\n",
    "    Jacob = np.zeros(len(covariance))\n",
    "    Jacob[0] = dpsipdu*dUdto\n",
    "    Jacob[1] = dpsipdu*dUduo\n",
    "    Jacob[2] = dpsipdu*dUdtE\n",
    "\n",
    "    error_psip = np.dot(Jacob.T,np.dot(covariance,Jacob))**0.5\n",
    "\n",
    "    # Intercept NaN values and set them to zero as NaN entries\n",
    "    # are non-retrievable from the DB\n",
    "    if np.isnan(error_psip):\n",
    "        error_psip = 0.0\n",
    "\n",
    "    return error_psip #/ (calculate_exptime_omega_sdss_i(mag) + 60.)"
   ]
  },
  {
   "cell_type": "markdown",
   "id": "d3e8efc2-3ede-4b33-9147-a56aec55123a",
   "metadata": {},
   "source": [
    "These functions depend on determining the parameters of the best-fit microlensing model to all available data up to each datapoint. To evaluate how these priority functions perform as a function of time throughout an event's lightcurve, we therefore need to effectively 'drip-feed' the lightcurve data one datapoint at a time, re-model the event and recalculate the priority for each timestamp. "
   ]
  },
  {
   "cell_type": "markdown",
   "id": "0882ee80-3cd5-49ca-9320-078e909af134",
   "metadata": {},
   "source": [
    "## Event Model Fitting\n",
    "\n",
    "We use PyLIMA to model microlensing events.  For the purposes of this investigation, we will consider the simple case of a Point-Source, Point-Lens model without parallax, and define a function to perform this fit and return the resulting model parameters. "
   ]
  },
  {
   "cell_type": "code",
   "execution_count": null,
   "id": "b099019d-b405-4fd6-8a4b-c4027dc908ed",
   "metadata": {},
   "outputs": [],
   "source": [
    "def fit_pspl_model(event_data):\n",
    "    \"\"\"\n",
    "    Function to fit a PSPL microlensing model to the timeseries photometry for a single event\n",
    "\n",
    "    Parameters:\n",
    "       event_data dict {'ra': Right Ascention in decimal degrees,\n",
    "                        'dec': Declination in decimal degrees,\n",
    "                        'lc': Numpy array with single survey lightcurves, with columns HJD, mag, mag_error\n",
    "    \"\"\"\n",
    "\n"
   ]
  },
  {
   "cell_type": "markdown",
   "id": "b43f1a4c-58d5-4a11-a093-99eebcb6f5b5",
   "metadata": {},
   "source": [
    "## Stellar event example: OGLE-2024-GD-0013\n",
    "\n",
    "To start with, let's load the survey photometry of a typical stellar lens event."
   ]
  },
  {
   "cell_type": "code",
   "execution_count": 39,
   "id": "4f8025d9-9992-4f6f-b26b-334361002987",
   "metadata": {},
   "outputs": [
    {
     "name": "stdout",
     "output_type": "stream",
     "text": [
      "[[5.64382318e+04 1.97490000e+01 2.14000000e-01]\n",
      " [5.64652106e+04 1.95580000e+01 1.71000000e-01]\n",
      " [5.65200126e+04 1.98150000e+01 2.11000000e-01]\n",
      " ...\n",
      " [6.05359710e+04 1.89510000e+01 1.22000000e-01]\n",
      " [6.05370675e+04 1.90030000e+01 1.32000000e-01]\n",
      " [6.05450310e+04 1.93100000e+01 1.44000000e-01]]\n",
      "Data origin: OGLE, filter OGLE_I\n"
     ]
    }
   ],
   "source": [
    "# Path to the input lightcurve file in the format downloaded from MOP's photometry table for this event\n",
    "lc_file = '/Users/rstreet/OMEGAII/Data/OGLE-2024-GD-0013/ogle-2024-gd-0013.csv'\n",
    "\n",
    "data, source, passband = load_csv_lightcurve(lc_file)\n",
    "print(data)\n",
    "print('Data origin: ' + source + ', filter ' + passband)"
   ]
  },
  {
   "cell_type": "code",
   "execution_count": 45,
   "id": "82ffd696-27d5-4f14-8ee2-50eda282ebd3",
   "metadata": {},
   "outputs": [
    {
     "data": {
      "text/plain": [
       "(np.float64(56232.89180699994),\n",
       " np.float64(60750.3709930002),\n",
       " np.float64(20.871299999999998),\n",
       " np.float64(18.1587))"
      ]
     },
     "execution_count": 45,
     "metadata": {},
     "output_type": "execute_result"
    },
    {
     "data": {
      "image/png": "[encoded data removed]",
      "text/plain": [
       "<Figure size 1000x1000 with 1 Axes>"
      ]
     },
     "metadata": {},
     "output_type": "display_data"
    }
   ],
   "source": [
    "fig = plt.figure(1, (10,10))\n",
    "\n",
    "plt.errorbar(data[:,0], data[:,1], yerr=data[:,2], fmt='.')\n",
    "plt.xlabel('MJD')\n",
    "plt.ylabel('Magnitude')\n",
    "[xmin,xmax,ymin,ymax] = plt.axis()\n",
    "plt.axis([xmin,xmax,ymax,ymin])"
   ]
  }
 ],
 "metadata": {
  "kernelspec": {
   "display_name": "Python 3 (ipykernel)",
   "language": "python",
   "name": "python3"
  },
  "language_info": {
   "codemirror_mode": {
    "name": "ipython",
    "version": 3
   },
   "file_extension": ".py",
   "mimetype": "text/x-python",
   "name": "python",
   "nbconvert_exporter": "python",
   "pygments_lexer": "ipython3",
   "version": "3.12.1"
  }
 },
 "nbformat": 4,
 "nbformat_minor": 5
}
