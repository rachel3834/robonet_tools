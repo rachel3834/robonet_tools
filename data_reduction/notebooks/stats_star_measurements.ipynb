{
 "cells": [
  {
   "cell_type": "markdown",
   "id": "8059cdbc-7684-422a-aa74-961c8d0c7cec",
   "metadata": {},
   "source": [
    "# Statistics of star measurements\n",
    "\n",
    "The purpose of this notebook is to estimate what fraction of stars in a given field have measurements in one, two and three filters. \n",
    "\n",
    "To get a straight forward estimate we use the field index from the field's crossmatch table, as this indicates each star's ID in the reference images for each filter.  We will use this as a rough indicator of whether the star would have produced valid lightcurve \n",
    "measurements in that filter. "
   ]
  },
  {
   "cell_type": "code",
   "execution_count": 8,
   "id": "0bf0b859-36b3-4f6a-91fc-7363203710ae",
   "metadata": {},
   "outputs": [],
   "source": [
    "from pyDANDIA import crossmatch\n",
    "import numpy as np"
   ]
  },
  {
   "cell_type": "markdown",
   "id": "d6f342d3-e621-4741-b2e7-461bad316eac",
   "metadata": {},
   "source": [
    "We will use the data from ROME-FIELD-01 as a proxy, since it should be reasonably consistent with the other fields. "
   ]
  },
  {
   "cell_type": "code",
   "execution_count": 3,
   "id": "623c41af-954d-4146-9a11-495f0af87915",
   "metadata": {},
   "outputs": [],
   "source": [
    "xmatch_file = '/Users/rstreet/ROME/ROME-FIELD-01/DR1/ROME-FIELD-01_field_crossmatch.fits'\n",
    "\n",
    "xmatch = crossmatch.CrossMatchTable()\n",
    "xmatch.load(xmatch_file,log=None)"
   ]
  },
  {
   "cell_type": "code",
   "execution_count": 4,
   "id": "be991d19-e326-41bf-aa1a-79d800023cb2",
   "metadata": {
    "scrolled": true
   },
   "outputs": [
    {
     "data": {
      "text/html": [
       "<div><i>Table length=403366</i>\n",
       "<table id=\"table4396399920\" class=\"table-striped table-bordered table-condensed\">\n",
       "<thead><tr><th>field_id</th><th>ra</th><th>dec</th><th>quadrant</th><th>quadrant_id</th><th>gaia_source_id</th><th>ROME-FIELD-01_lsc-doma-1m0-05-fa15_ip_index</th><th>ROME-FIELD-01_lsc-doma-1m0-05-fa15_rp_index</th><th>ROME-FIELD-01_lsc-doma-1m0-05-fa15_gp_index</th><th>ROME-FIELD-01_lsc-domb-1m0-09-fa03_ip_index</th><th>ROME-FIELD-01_coj-domb-1m0-03-fa11_gp_index</th><th>ROME-FIELD-01_coj-domb-1m0-03-fa11_rp_index</th><th>ROME-FIELD-01_coj-domb-1m0-03-fa11_ip_index</th><th>ROME-FIELD-01_coj-doma-1m0-11-fa12_gp_index</th><th>ROME-FIELD-01_coj-doma-1m0-11-fa12_rp_index</th><th>ROME-FIELD-01_coj-doma-1m0-11-fa12_ip_index</th><th>ROME-FIELD-01_cpt-doma-1m0-10-fa16_gp_index</th><th>ROME-FIELD-01_cpt-doma-1m0-10-fa16_rp_index</th><th>ROME-FIELD-01_cpt-doma-1m0-10-fa16_ip_index</th><th>ROME-FIELD-01_cpt-domb-1m0-13-fa14_gp_index</th><th>ROME-FIELD-01_cpt-domb-1m0-13-fa14_rp_index</th><th>ROME-FIELD-01_cpt-domb-1m0-13-fa14_ip_index</th><th>ROME-FIELD-01_cpt-domc-1m0-12-fa06_rp_index</th><th>ROME-FIELD-01_cpt-domc-1m0-12-fa06_ip_index</th><th>ROME-FIELD-01_cpt-domc-1m0-12-fa06_gp_index</th></tr></thead>\n",
       "<thead><tr><th>int64</th><th>float64</th><th>float64</th><th>int64</th><th>int64</th><th>str19</th><th>int64</th><th>int64</th><th>int64</th><th>int64</th><th>int64</th><th>int64</th><th>int64</th><th>int64</th><th>int64</th><th>int64</th><th>int64</th><th>int64</th><th>int64</th><th>int64</th><th>int64</th><th>int64</th><th>int64</th><th>int64</th><th>int64</th></tr></thead>\n",
       "<tr><td>1</td><td>267.61861696019145</td><td>-29.829605383706895</td><td>4</td><td>1</td><td>4056436121079692032</td><td>1</td><td>0</td><td>0</td><td>0</td><td>0</td><td>0</td><td>0</td><td>0</td><td>0</td><td>0</td><td>0</td><td>0</td><td>0</td><td>0</td><td>0</td><td>0</td><td>0</td><td>0</td><td>0</td></tr>\n",
       "<tr><td>2</td><td>267.70228408545813</td><td>-29.83032824102953</td><td>4</td><td>2</td><td>4056435567040767488</td><td>2</td><td>0</td><td>0</td><td>0</td><td>0</td><td>0</td><td>0</td><td>0</td><td>0</td><td>0</td><td>0</td><td>0</td><td>0</td><td>0</td><td>0</td><td>0</td><td>0</td><td>0</td><td>0</td></tr>\n",
       "<tr><td>3</td><td>267.9873108673885</td><td>-29.829734325692858</td><td>3</td><td>1</td><td>4056444539267431040</td><td>3</td><td>0</td><td>0</td><td>0</td><td>0</td><td>0</td><td>0</td><td>0</td><td>0</td><td>0</td><td>0</td><td>0</td><td>0</td><td>0</td><td>0</td><td>0</td><td>0</td><td>0</td><td>0</td></tr>\n",
       "<tr><td>4</td><td>267.9585073984874</td><td>-29.83002538112054</td><td>3</td><td>2</td><td>4056444878525743616</td><td>4</td><td>0</td><td>0</td><td>0</td><td>0</td><td>0</td><td>0</td><td>0</td><td>0</td><td>0</td><td>0</td><td>0</td><td>0</td><td>0</td><td>0</td><td>0</td><td>0</td><td>0</td><td>0</td></tr>\n",
       "<tr><td>5</td><td>267.9623466389135</td><td>-29.82994179424344</td><td>3</td><td>3</td><td>4056444917224603904</td><td>5</td><td>0</td><td>0</td><td>0</td><td>0</td><td>0</td><td>0</td><td>0</td><td>0</td><td>0</td><td>0</td><td>0</td><td>0</td><td>0</td><td>0</td><td>0</td><td>0</td><td>0</td><td>0</td></tr>\n",
       "<tr><td>6</td><td>267.943683356543</td><td>-29.830113202355186</td><td>3</td><td>4</td><td>4056444951538372736</td><td>6</td><td>3</td><td>0</td><td>0</td><td>0</td><td>0</td><td>0</td><td>0</td><td>0</td><td>0</td><td>0</td><td>0</td><td>0</td><td>0</td><td>0</td><td>0</td><td>0</td><td>0</td><td>0</td></tr>\n",
       "<tr><td>7</td><td>267.90449275089594</td><td>-29.830465810573223</td><td>3</td><td>5</td><td>4056445084668331520</td><td>7</td><td>0</td><td>0</td><td>0</td><td>0</td><td>0</td><td>0</td><td>0</td><td>0</td><td>0</td><td>0</td><td>0</td><td>0</td><td>0</td><td>0</td><td>0</td><td>0</td><td>0</td><td>0</td></tr>\n",
       "<tr><td>8</td><td>267.9504950018423</td><td>-29.830247462548577</td><td>3</td><td>6</td><td>4056444951538344320</td><td>8</td><td>8</td><td>0</td><td>0</td><td>0</td><td>0</td><td>0</td><td>0</td><td>0</td><td>0</td><td>0</td><td>0</td><td>0</td><td>0</td><td>0</td><td>0</td><td>0</td><td>0</td><td>0</td></tr>\n",
       "<tr><td>9</td><td>267.9778110411362</td><td>-29.83012645385565</td><td>3</td><td>7</td><td>4056444156948804608</td><td>9</td><td>9</td><td>0</td><td>0</td><td>0</td><td>0</td><td>0</td><td>0</td><td>0</td><td>0</td><td>0</td><td>0</td><td>0</td><td>0</td><td>0</td><td>0</td><td>0</td><td>0</td><td>0</td></tr>\n",
       "<tr><td>10</td><td>267.7950771349625</td><td>-29.830849947501875</td><td>4</td><td>3</td><td>4056447116201138176</td><td>10</td><td>0</td><td>0</td><td>0</td><td>0</td><td>0</td><td>0</td><td>0</td><td>0</td><td>0</td><td>0</td><td>0</td><td>0</td><td>0</td><td>0</td><td>0</td><td>0</td><td>0</td><td>0</td></tr>\n",
       "<tr><td>11</td><td>267.93369895660214</td><td>-29.830447435182098</td><td>3</td><td>8</td><td>4056444848505182848</td><td>11</td><td>0</td><td>0</td><td>0</td><td>0</td><td>0</td><td>0</td><td>0</td><td>0</td><td>0</td><td>0</td><td>0</td><td>0</td><td>0</td><td>0</td><td>0</td><td>0</td><td>0</td><td>0</td></tr>\n",
       "<tr><td>12</td><td>268.0221470320916</td><td>-29.829965267044106</td><td>3</td><td>9</td><td>4056444298748512768</td><td>12</td><td>10</td><td>0</td><td>0</td><td>0</td><td>0</td><td>0</td><td>0</td><td>0</td><td>0</td><td>0</td><td>0</td><td>0</td><td>0</td><td>0</td><td>0</td><td>0</td><td>0</td><td>0</td></tr>\n",
       "<tr><td>13</td><td>267.71580092394436</td><td>-29.83108991598075</td><td>4</td><td>4</td><td>4056423820340737664</td><td>13</td><td>12</td><td>0</td><td>0</td><td>0</td><td>0</td><td>0</td><td>0</td><td>0</td><td>0</td><td>0</td><td>0</td><td>0</td><td>0</td><td>0</td><td>0</td><td>0</td><td>0</td><td>0</td></tr>\n",
       "<tr><td>...</td><td>...</td><td>...</td><td>...</td><td>...</td><td>...</td><td>...</td><td>...</td><td>...</td><td>...</td><td>...</td><td>...</td><td>...</td><td>...</td><td>...</td><td>...</td><td>...</td><td>...</td><td>...</td><td>...</td><td>...</td><td>...</td><td>...</td><td>...</td><td>...</td></tr>\n",
       "<tr><td>403354</td><td>267.7137260951482</td><td>-30.280852668174273</td><td>1</td><td>101224</td><td>None</td><td>0</td><td>0</td><td>0</td><td>0</td><td>0</td><td>0</td><td>0</td><td>0</td><td>0</td><td>0</td><td>0</td><td>0</td><td>0</td><td>0</td><td>0</td><td>0</td><td>0</td><td>0</td><td>99254</td></tr>\n",
       "<tr><td>403355</td><td>267.8083074156395</td><td>-30.280356282781426</td><td>1</td><td>101225</td><td>None</td><td>0</td><td>0</td><td>0</td><td>0</td><td>0</td><td>0</td><td>0</td><td>0</td><td>0</td><td>0</td><td>0</td><td>0</td><td>0</td><td>0</td><td>0</td><td>0</td><td>0</td><td>0</td><td>99259</td></tr>\n",
       "<tr><td>403356</td><td>267.89107599289514</td><td>-30.28002288681763</td><td>2</td><td>116783</td><td>None</td><td>0</td><td>0</td><td>0</td><td>0</td><td>0</td><td>0</td><td>0</td><td>0</td><td>0</td><td>0</td><td>0</td><td>0</td><td>0</td><td>0</td><td>0</td><td>0</td><td>0</td><td>0</td><td>99309</td></tr>\n",
       "<tr><td>403357</td><td>267.973112096313</td><td>-30.279522947435847</td><td>2</td><td>116784</td><td>4056351213863983872</td><td>0</td><td>0</td><td>0</td><td>0</td><td>0</td><td>0</td><td>0</td><td>0</td><td>0</td><td>0</td><td>0</td><td>0</td><td>0</td><td>0</td><td>0</td><td>0</td><td>0</td><td>0</td><td>99315</td></tr>\n",
       "<tr><td>403358</td><td>267.7832214913319</td><td>-30.28100762146372</td><td>1</td><td>101226</td><td>None</td><td>0</td><td>0</td><td>0</td><td>0</td><td>0</td><td>0</td><td>0</td><td>0</td><td>0</td><td>0</td><td>0</td><td>0</td><td>0</td><td>0</td><td>0</td><td>0</td><td>0</td><td>0</td><td>99400</td></tr>\n",
       "<tr><td>403359</td><td>268.07264073081086</td><td>-30.279224549469447</td><td>2</td><td>116785</td><td>None</td><td>0</td><td>0</td><td>0</td><td>0</td><td>0</td><td>0</td><td>0</td><td>0</td><td>0</td><td>0</td><td>0</td><td>0</td><td>0</td><td>0</td><td>0</td><td>0</td><td>0</td><td>0</td><td>99459</td></tr>\n",
       "<tr><td>403360</td><td>267.9090081948212</td><td>-30.280466973298203</td><td>2</td><td>116786</td><td>None</td><td>0</td><td>0</td><td>0</td><td>0</td><td>0</td><td>0</td><td>0</td><td>0</td><td>0</td><td>0</td><td>0</td><td>0</td><td>0</td><td>0</td><td>0</td><td>0</td><td>0</td><td>0</td><td>99484</td></tr>\n",
       "<tr><td>403361</td><td>267.59303132252904</td><td>-30.28234948106676</td><td>1</td><td>101227</td><td>None</td><td>0</td><td>0</td><td>0</td><td>0</td><td>0</td><td>0</td><td>0</td><td>0</td><td>0</td><td>0</td><td>0</td><td>0</td><td>0</td><td>0</td><td>0</td><td>0</td><td>0</td><td>0</td><td>99516</td></tr>\n",
       "<tr><td>403362</td><td>267.91653254793334</td><td>-30.280541064018166</td><td>2</td><td>116787</td><td>None</td><td>0</td><td>0</td><td>0</td><td>0</td><td>0</td><td>0</td><td>0</td><td>0</td><td>0</td><td>0</td><td>0</td><td>0</td><td>0</td><td>0</td><td>0</td><td>0</td><td>0</td><td>0</td><td>99529</td></tr>\n",
       "<tr><td>403363</td><td>267.8230497396822</td><td>-30.2817282174238</td><td>1</td><td>101228</td><td>None</td><td>0</td><td>0</td><td>0</td><td>0</td><td>0</td><td>0</td><td>0</td><td>0</td><td>0</td><td>0</td><td>0</td><td>0</td><td>0</td><td>0</td><td>0</td><td>0</td><td>0</td><td>0</td><td>99636</td></tr>\n",
       "<tr><td>403364</td><td>267.7394219355522</td><td>-30.28234498521825</td><td>1</td><td>101229</td><td>None</td><td>0</td><td>0</td><td>0</td><td>0</td><td>0</td><td>0</td><td>0</td><td>0</td><td>0</td><td>0</td><td>0</td><td>0</td><td>0</td><td>0</td><td>0</td><td>0</td><td>0</td><td>0</td><td>99646</td></tr>\n",
       "<tr><td>403365</td><td>267.58077310875046</td><td>-30.283432967407343</td><td>1</td><td>101230</td><td>None</td><td>0</td><td>0</td><td>0</td><td>0</td><td>0</td><td>0</td><td>0</td><td>0</td><td>0</td><td>0</td><td>0</td><td>0</td><td>0</td><td>0</td><td>0</td><td>0</td><td>0</td><td>0</td><td>99652</td></tr>\n",
       "<tr><td>403366</td><td>267.5807594989796</td><td>-30.284265365163034</td><td>1</td><td>101231</td><td>None</td><td>0</td><td>0</td><td>0</td><td>0</td><td>0</td><td>0</td><td>0</td><td>0</td><td>0</td><td>0</td><td>0</td><td>0</td><td>0</td><td>0</td><td>0</td><td>0</td><td>0</td><td>0</td><td>99653</td></tr>\n",
       "</table></div>"
      ],
      "text/plain": [
       "<Table length=403366>\n",
       "field_id         ra         ... ROME-FIELD-01_cpt-domc-1m0-12-fa06_ip_index ROME-FIELD-01_cpt-domc-1m0-12-fa06_gp_index\n",
       " int64        float64       ...                    int64                                       int64                   \n",
       "-------- ------------------ ... ------------------------------------------- -------------------------------------------\n",
       "       1 267.61861696019145 ...                                           0                                           0\n",
       "       2 267.70228408545813 ...                                           0                                           0\n",
       "       3  267.9873108673885 ...                                           0                                           0\n",
       "       4  267.9585073984874 ...                                           0                                           0\n",
       "       5  267.9623466389135 ...                                           0                                           0\n",
       "       6   267.943683356543 ...                                           0                                           0\n",
       "       7 267.90449275089594 ...                                           0                                           0\n",
       "       8  267.9504950018423 ...                                           0                                           0\n",
       "       9  267.9778110411362 ...                                           0                                           0\n",
       "      10  267.7950771349625 ...                                           0                                           0\n",
       "      11 267.93369895660214 ...                                           0                                           0\n",
       "      12  268.0221470320916 ...                                           0                                           0\n",
       "      13 267.71580092394436 ...                                           0                                           0\n",
       "     ...                ... ...                                         ...                                         ...\n",
       "  403354  267.7137260951482 ...                                           0                                       99254\n",
       "  403355  267.8083074156395 ...                                           0                                       99259\n",
       "  403356 267.89107599289514 ...                                           0                                       99309\n",
       "  403357   267.973112096313 ...                                           0                                       99315\n",
       "  403358  267.7832214913319 ...                                           0                                       99400\n",
       "  403359 268.07264073081086 ...                                           0                                       99459\n",
       "  403360  267.9090081948212 ...                                           0                                       99484\n",
       "  403361 267.59303132252904 ...                                           0                                       99516\n",
       "  403362 267.91653254793334 ...                                           0                                       99529\n",
       "  403363  267.8230497396822 ...                                           0                                       99636\n",
       "  403364  267.7394219355522 ...                                           0                                       99646\n",
       "  403365 267.58077310875046 ...                                           0                                       99652\n",
       "  403366  267.5807594989796 ...                                           0                                       99653"
      ]
     },
     "execution_count": 4,
     "metadata": {},
     "output_type": "execute_result"
    }
   ],
   "source": [
    "xmatch.field_index"
   ]
  },
  {
   "cell_type": "markdown",
   "id": "52b7867c-aae2-4da6-9cd7-0f0b4f35d6d5",
   "metadata": {},
   "source": [
    "First we extract the columns which provide the star indices in the reference images in each of the different datasets, for each filter. "
   ]
  },
  {
   "cell_type": "code",
   "execution_count": 26,
   "id": "66731014-f205-41d2-8095-c5acf818df73",
   "metadata": {},
   "outputs": [
    {
     "data": {
      "text/plain": [
       "['ROME-FIELD-01_lsc-doma-1m0-05-fa15_gp_index',\n",
       " 'ROME-FIELD-01_coj-domb-1m0-03-fa11_gp_index',\n",
       " 'ROME-FIELD-01_coj-doma-1m0-11-fa12_gp_index',\n",
       " 'ROME-FIELD-01_cpt-doma-1m0-10-fa16_gp_index',\n",
       " 'ROME-FIELD-01_cpt-domb-1m0-13-fa14_gp_index',\n",
       " 'ROME-FIELD-01_cpt-domc-1m0-12-fa06_gp_index']"
      ]
     },
     "execution_count": 26,
     "metadata": {},
     "output_type": "execute_result"
    }
   ],
   "source": [
    "g_cols = [col for col in xmatch.field_index.columns if '_gp_' in col]\n",
    "r_cols = [col for col in xmatch.field_index.columns if '_rp_' in col]\n",
    "i_cols = [col for col in xmatch.field_index.columns if '_ip_' in col]\n",
    "g_cols"
   ]
  },
  {
   "cell_type": "markdown",
   "id": "a9932411-c986-488f-8ee4-471709cdd2d0",
   "metadata": {},
   "source": [
    "Now we sum the star indices across all columns for each filter - this gives us an index of stars which will be non-zero if a star was measured in any reference image for a given filter.  The exact value of the index doesn't matter.  "
   ]
  },
  {
   "cell_type": "code",
   "execution_count": 36,
   "id": "fa0c3cd7-d972-4927-bee7-2147b0591bff",
   "metadata": {},
   "outputs": [
    {
     "data": {
      "text/plain": [
       "array([1., 2., 3., ..., 0., 0., 0.])"
      ]
     },
     "execution_count": 36,
     "metadata": {},
     "output_type": "execute_result"
    }
   ],
   "source": [
    "g_stars = np.zeros(len(xmatch.field_index))\n",
    "r_stars = np.zeros(len(xmatch.field_index))\n",
    "i_stars = np.zeros(len(xmatch.field_index))\n",
    "for col in g_cols:\n",
    "    g_stars += xmatch.field_index[col].data\n",
    "\n",
    "for col in r_cols:\n",
    "    r_stars += xmatch.field_index[col].data\n",
    "    \n",
    "for col in i_cols:\n",
    "    i_stars += xmatch.field_index[col].data\n",
    "\n",
    "i_stars"
   ]
  },
  {
   "cell_type": "markdown",
   "id": "4ead0550-254e-4cb9-873b-4e30ffd6d711",
   "metadata": {},
   "source": [
    "Using the star indices for the primary reference datasets, we can count the number of stars that were detected in all 3 passbands."
   ]
  },
  {
   "cell_type": "code",
   "execution_count": 40,
   "id": "9d39cb58-653b-4236-8c14-c4cf642125e4",
   "metadata": {},
   "outputs": [
    {
     "name": "stdout",
     "output_type": "stream",
     "text": [
      "Number of stars measured in all three passbands=149697, percentage of total=37.1%\n"
     ]
    }
   ],
   "source": [
    "# Count the number of stars with non-zero indices in all three columns, indicating that the star was \n",
    "# detected in all three reference images\n",
    "#mask = (xmatch.field_index[ref_col_g] > 0) and (xmatch.field_index[ref_col_r] > 0) and (xmatch.field_index[ref_col_i] > 0)\n",
    "gdx = np.where(g_stars > 0)[0]\n",
    "rdx = np.where(r_stars > 0)[0]\n",
    "idx = np.where(i_stars > 0)[0]\n",
    "\n",
    "mask = list((set(gdx).intersection(set(rdx))).intersection(set(idx)))\n",
    "n3bands = len(mask)\n",
    "n3percent = (n3bands/len(xmatch.field_index))*100.0\n",
    "print('Number of stars measured in all three passbands=' + str(n3bands) + ', percentage of total=' + str(round(n3percent,1)) + '%')"
   ]
  },
  {
   "cell_type": "markdown",
   "id": "08fb549a-3ea3-45c1-8f73-e5cbd293b099",
   "metadata": {},
   "source": [
    "Counting the number detected in two passbands requires us to handle cases of (i,g), (r,g) and (i,r)."
   ]
  },
  {
   "cell_type": "code",
   "execution_count": 41,
   "id": "d4d61d48-2423-42e2-b594-cab0653d3316",
   "metadata": {},
   "outputs": [
    {
     "name": "stdout",
     "output_type": "stream",
     "text": [
      "Number of stars measured in passbands g,i=10927, percentage of total=2.7%\n",
      "Number of stars measured in passbands r,g=3938, percentage of total=1.0%\n",
      "Number of stars measured in passbands i,r=124686, percentage of total=30.9%\n",
      "Total number of stars measured in two passbands=139551, percentage of total=34.6%\n"
     ]
    }
   ],
   "source": [
    "# Filter pairs are defined in set order, with the last column in the tuple being the column where the star is NOT measured. \n",
    "filter_sets = {\n",
    "    'g,i': (g_stars, i_stars, r_stars),\n",
    "    'r,g': (r_stars, g_stars, i_stars),\n",
    "    'i,r': (i_stars, r_stars, g_stars)\n",
    "}\n",
    "\n",
    "# Counting the number of stars measured in the two selected bands, accumulating the total percentage:\n",
    "n2bands = 0\n",
    "for label, fset in filter_sets.items():\n",
    "    idx1 = np.where(fset[0] > 0)[0]\n",
    "    idx2 = np.where(fset[1] > 0)[0]\n",
    "    idx3 = np.where(fset[2] == 0)[0]\n",
    "    mask = list((set(idx1).intersection(set(idx2))).intersection(set(idx3)))\n",
    "    nbands = len(mask)\n",
    "    n2bands += nbands\n",
    "    npercent = (nbands/len(xmatch.field_index))*100.0\n",
    "    print('Number of stars measured in passbands ' + label + '=' + str(nbands) + ', percentage of total=' + str(round(npercent,1)) + '%')\n",
    "\n",
    "n2percent = (n2bands/len(xmatch.field_index))*100.0\n",
    "print('Total number of stars measured in two passbands=' + str(n2bands) + ', percentage of total=' + str(round(n2percent,1)) + '%')"
   ]
  },
  {
   "cell_type": "markdown",
   "id": "8912867c-3810-46bf-a78c-e302fe7862ae",
   "metadata": {},
   "source": [
    "Lastly, counting the number of stars with measurements in only one passband. "
   ]
  },
  {
   "cell_type": "code",
   "execution_count": 42,
   "id": "9da1a4c7-8614-4961-bf78-186fdba4d39c",
   "metadata": {},
   "outputs": [
    {
     "name": "stdout",
     "output_type": "stream",
     "text": [
      "Number of stars measured in g only=6731, percentage of total=1.7%\n",
      "Number of stars measured in r only=10888, percentage of total=2.7%\n",
      "Number of stars measured in i only=96499, percentage of total=23.9%\n",
      "Total number of stars measured in one passband only=114118, percentage of total=28.3%\n"
     ]
    }
   ],
   "source": [
    "# Filter in set order, with the last two columns in the tuple being the columns where the star is NOT measured. \n",
    "filter_sets = {\n",
    "    'g only': (g_stars, i_stars, r_stars),\n",
    "    'r only': (r_stars, g_stars, i_stars),\n",
    "    'i only': (i_stars, r_stars, g_stars)\n",
    "}\n",
    "\n",
    "# Counting the number of stars measured in the two selected bands, accumulating the total percentage:\n",
    "n1band = 0\n",
    "for label, fset in filter_sets.items():\n",
    "    idx1 = np.where(fset[0] > 0)[0]\n",
    "    idx2 = np.where(fset[1] == 0)[0]\n",
    "    idx3 = np.where(fset[2] == 0)[0]\n",
    "    mask = list((set(idx1).intersection(set(idx2))).intersection(set(idx3)))\n",
    "    nbands = len(mask)\n",
    "    n1band += nbands\n",
    "    npercent = (nbands/len(xmatch.field_index))*100.0\n",
    "    print('Number of stars measured in ' + label + '=' + str(nbands) + ', percentage of total=' + str(round(npercent,1)) + '%')\n",
    "\n",
    "n1percent = (n1band/len(xmatch.field_index))*100.0\n",
    "print('Total number of stars measured in one passband only=' + str(n1band) + ', percentage of total=' + str(round(n1percent,1)) + '%')"
   ]
  },
  {
   "cell_type": "code",
   "execution_count": null,
   "id": "73f05197-5584-4970-bcb4-dd6f95075791",
   "metadata": {},
   "outputs": [],
   "source": []
  }
 ],
 "metadata": {
  "kernelspec": {
   "display_name": "Python 3 (ipykernel)",
   "language": "python",
   "name": "python3"
  },
  "language_info": {
   "codemirror_mode": {
    "name": "ipython",
    "version": 3
   },
   "file_extension": ".py",
   "mimetype": "text/x-python",
   "name": "python",
   "nbconvert_exporter": "python",
   "pygments_lexer": "ipython3",
   "version": "3.10.11"
  }
 },
 "nbformat": 4,
 "nbformat_minor": 5
}
